{
 "cells": [
  {
   "cell_type": "markdown",
   "metadata": {},
   "source": [
    "Q1. What is Statistics?"
   ]
  },
  {
   "cell_type": "markdown",
   "metadata": {},
   "source": [
    "Statistic is a science of collectiong , organizing and anylyz data"
   ]
  },
  {
   "cell_type": "markdown",
   "metadata": {},
   "source": [
    "Q2. Define the different types of statistics and give an example of when each type might be used."
   ]
  },
  {
   "cell_type": "markdown",
   "metadata": {},
   "source": [
    "there are two types of statistic \n",
    "1)descriptive Statistic\n",
    "\n",
    "----it consist organizing and summerying data\n",
    "\n",
    "2)infrintial statistic\n",
    "\n",
    "----it consist using data you have measured to from conclusion\n",
    "---- it's used to make conclution \n",
    "\n"
   ]
  },
  {
   "cell_type": "markdown",
   "metadata": {},
   "source": [
    "Q3. What are the different types of data and how do they differ from each other? Provide an example of\n",
    "each type of data."
   ]
  },
  {
   "cell_type": "markdown",
   "metadata": {},
   "source": [
    "There are mainly two type of data \n",
    "1) quantative data\n",
    "\n",
    "----quantative data consist descreiz and continuious data\n",
    "\n",
    "\n",
    "2) qualitative data\n",
    "\n",
    "-----qualitative data consist nominal data and ordinal data"
   ]
  },
  {
   "cell_type": "markdown",
   "metadata": {},
   "source": [
    "Q4. Categorise the following datasets with respect to quantitative and qualitative data types:\n",
    "(i) Grading in exam: A+, A, B+, B, C+, C, D, E\n",
    "(ii) Colour of mangoes: yellow, green, orange, red\n",
    "(iii) Height data of a class: [178.9, 179, 179.5, 176, 177.2, 178.3, 175.8,...]\n",
    "(iv) Number of mangoes exported by a farm: [500, 600, 478, 672, ...]"
   ]
  },
  {
   "cell_type": "markdown",
   "metadata": {},
   "source": [
    "(i) qualitative data\n",
    "(ii) qualititative data\n",
    "(iii) quantitative data\n",
    "(iv) quantitative data\n"
   ]
  },
  {
   "cell_type": "markdown",
   "metadata": {},
   "source": [
    "Q5. Explain the concept of levels of measurement and give an example of a variable for each level."
   ]
  },
  {
   "cell_type": "markdown",
   "metadata": {},
   "source": [
    "we can clasiyfy data into 4 category \n",
    "1) Nominal scale data\n",
    "\n",
    "-differance can be mesurable \n",
    "-order dose't matter\n",
    "\n",
    "ex : gender\n",
    "\n",
    "2) Ordinal scale data\n",
    "\n",
    "--differance can not mesurable \n",
    "--order matters\n",
    "\n",
    "ex : customer review (good,bad,better)\n",
    "\n",
    "3) internal scale data\n",
    "\n",
    "---differance can be mesurable\n",
    "---ratio can not be mesurable \n",
    "---order matters\n",
    "\n",
    "ex: temprature of differnt city\n",
    "\n",
    "4) ration scale data\n",
    "---differance can be mesurable\n",
    "---ratio can be mesurable \n",
    "---order matters\n",
    "\n",
    "ex : marks of students\n",
    "\n",
    "\n"
   ]
  },
  {
   "cell_type": "markdown",
   "metadata": {},
   "source": [
    "Q6. Why is it important to understand the level of measurement when analyzing data? Provide an\n",
    "example to illustrate your answer."
   ]
  },
  {
   "cell_type": "markdown",
   "metadata": {},
   "source": [
    "it determines the types of statistical methods and operations that can be applied to the data.\n",
    "\n",
    "Levels of Measurement:\n",
    "Nominal: Data are categorized without a specific order (e.g., types of fruits, gender).\n",
    "Ordinal: Data are categorized with a meaningful order, but the differences between categories aren't necessarily equal (e.g., rankings, satisfaction levels).\n",
    "Interval: Data have equal intervals between values, but no true zero point (e.g., temperature in Celsius).\n",
    "Ratio: Data have equal intervals and a true zero point, allowing for meaningful comparisons using ratios (e.g., height, weight)."
   ]
  },
  {
   "cell_type": "markdown",
   "metadata": {},
   "source": [
    "Q7. How nominal data type is different from ordinal data type."
   ]
  },
  {
   "cell_type": "markdown",
   "metadata": {},
   "source": [
    "1) Nominal scale data\n",
    "\n",
    "-differance can be mesurable \n",
    "-order dose't matter\n",
    "\n",
    "ex : gender\n",
    "\n",
    "2) Ordinal scale data\n",
    "\n",
    "--differance can not mesurable \n",
    "--order matters\n",
    "\n",
    "ex : customer review (good,bad,better)\n"
   ]
  },
  {
   "cell_type": "markdown",
   "metadata": {},
   "source": [
    "Q8. Which type of plot can be used to display data in terms of range?"
   ]
  },
  {
   "cell_type": "markdown",
   "metadata": {},
   "source": [
    "A box plot is commonly used to display data in terms of range."
   ]
  },
  {
   "cell_type": "markdown",
   "metadata": {},
   "source": [
    "Q9. Describe the difference between descriptive and inferential statistics. Give an example of each\n",
    "type of statistics and explain how they are used."
   ]
  },
  {
   "cell_type": "markdown",
   "metadata": {},
   "source": [
    "1)descriptive Statistic\n",
    "\n",
    "----it consist organizing and summerying data\n",
    "\n",
    "2)infrential statistic\n",
    "\n",
    "----it consist using data you have measured to from conclusion\n",
    "---- it's used to make conclution "
   ]
  },
  {
   "cell_type": "markdown",
   "metadata": {},
   "source": [
    "Q10. What are some common measures of central tendency and variability used in statistics? Explain\n",
    "how each measure can be used to describe a dataset."
   ]
  },
  {
   "cell_type": "markdown",
   "metadata": {},
   "source": [
    "Measures of Central Tendency:\n",
    "\n",
    "Mean (Arithmetic Average)\n",
    "Median\n",
    "Mode\n",
    "\n",
    "\n",
    "Measures of variability Tendency:\n",
    "\n",
    "Range\n",
    "Variance\n",
    "Interquartile Range \n",
    "Standard Deviation\n",
    "\n"
   ]
  }
 ],
 "metadata": {
  "language_info": {
   "name": "python"
  }
 },
 "nbformat": 4,
 "nbformat_minor": 2
}
